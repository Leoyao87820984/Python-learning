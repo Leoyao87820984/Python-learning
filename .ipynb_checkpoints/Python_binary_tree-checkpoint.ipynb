{
 "cells": [
  {
   "cell_type": "code",
   "execution_count": 1,
   "metadata": {
    "collapsed": true
   },
   "outputs": [],
   "source": [
    "from IPython.display import Image\n"
   ]
  },
  {
   "cell_type": "markdown",
   "metadata": {},
   "source": [
    "### 三种遍历二叉树的方式，理解的关键点在于递归思想。"
   ]
  },
  {
   "cell_type": "code",
   "execution_count": 2,
   "metadata": {},
   "outputs": [
    {
     "data": {
      "image/jpeg": "[encoded data removed]",
      "text/plain": [
       "<IPython.core.display.Image object>"
      ]
     },
     "execution_count": 2,
     "metadata": {},
     "output_type": "execute_result"
    }
   ],
   "source": [
    "Image('binary_tree.jpg')"
   ]
  },
  {
   "cell_type": "markdown",
   "metadata": {},
   "source": [
    "#### 二叉查询树，Binary search tree"
   ]
  },
  {
   "cell_type": "markdown",
   "metadata": {},
   "source": [
    "二叉查找树（英语：Binary Search Tree），也称为二叉搜索树、有序二叉树（ordered binary tree）或排序二叉树（sorted binary tree），是指一棵空树或者具有下列性质的二叉树：\n",
    "\n",
    "- 若任意节点的左子树不空，则左子树上所有节点的值均小于它的根节点的值；\n",
    "- 若任意节点的右子树不空，则右子树上所有节点的值均大于它的根节点的值；\n",
    "- 任意节点的左、右子树也分别为二叉查找树；\n",
    "- 没有键值相等的节点。\n",
    "二叉查找树相比于其他数据结构的优势在于查找、插入的时间复杂度较低。为O(log n)。二叉查找树是基础性数据结构，用于构建更为抽象的数据结构，如集合、multiset、关联数组等。"
   ]
  },
  {
   "cell_type": "markdown",
   "metadata": {},
   "source": [
    "> 在二叉搜索树b中查找x的过程为：\n",
    "- 若b是空树，则搜索失败，否则：\n",
    "- 若x等于b的根节点的数据域之值，则查找成功；否则：\n",
    "- 若x小于b的根节点的数据域之值，则搜索左子树；否则：\n",
    "- 查找右子树"
   ]
  },
  {
   "cell_type": "markdown",
   "metadata": {},
   "source": [
    "> 向一个二叉搜索树b中插入一个节点s的算法，过程为：\n",
    "- 若b是空树，则将s所指结点作为根节点插入，否则：\n",
    "- 若s->data等于b的根节点的数据域之值，则返回，否则：\n",
    "- 若s->data小于b的根节点的数据域之值，则把s所指节点插入到左子树中，否则：\n",
    "- 把s所指节点插入到右子树中。（新插入节点总是叶子节点）"
   ]
  },
  {
   "cell_type": "markdown",
   "metadata": {
    "collapsed": true
   },
   "source": [
    "#### 寻找前驱节点\n",
    "- 若一个节点有左子树，那么该节点的前驱节点是其左子树中val值最大的节点（也就是左子树中所谓的rightMostNode）\n",
    "- 若一个节点没有左子树，那么判断该节点和其父节点的关系 \n",
    "- 2.1 若该节点是其父节点的右边孩子，那么该节点的前驱结点即为其父节点。 \n",
    "- 2.2 若该节点是其父节点的左边孩子，那么需要沿着其父亲节点一直向树的顶端寻找，直到找到一个节点P，P节点是其父节点Q的右边孩子（可参考例子2的前驱结点是1），那么Q就是该节点的后继节点"
   ]
  },
  {
   "cell_type": "markdown",
   "metadata": {},
   "source": [
    "伪代码\n",
    "```python\n",
    "Tree_SUCCESSOR(x)\n",
    "    if right [x] != NULL\n",
    "        then return TREE_MINMUM(right(x))\n",
    "    y = parent[x]\n",
    "    while y!= NULL and x == left [y] ## 意思是目前我是你的左树那么就还要找\n",
    "    do x = y\n",
    "        y = parent [y]\n",
    "    return y\n",
    "```\n"
   ]
  },
  {
   "cell_type": "markdown",
   "metadata": {},
   "source": [
    "#### 寻找后继节点\n",
    "- 若一个节点有右子树，那么该节点的后继节点是其右子树中val值最小的节点（也就是右子树中所谓的leftMostNode）\n",
    "- 若一个节点没有右子树，那么判断该节点和其父节点的关系 \n",
    "- 2.1 若该节点是其父节点的左边孩子，那么该节点的后继结点即为其父节点 \n",
    "- 2.2 若该节点是其父节点的右边孩子，那么需要沿着其父亲节点一直向树的顶端寻找，直到找到一个节点P，P节点是其父节点Q的左边孩子（可参考例子2的前驱结点是1），那么Q就是该节点的后继节点"
   ]
  },
  {
   "cell_type": "markdown",
   "metadata": {},
   "source": [
    "伪代码\n",
    "```python\n",
    "TREE_PROCESSOR(x)\n",
    "    if right[x] ! = NULL\n",
    "        then return TREE_MINMUM(right(x))\n",
    "    y = parent[x]\n",
    "    while y != NULL and x = right[y]\n",
    "        do x = y\n",
    "            y = parent [y]\n",
    "    return y\n",
    "```"
   ]
  },
  {
   "cell_type": "markdown",
   "metadata": {},
   "source": [
    "#### 删除节点操作 \n",
    "- 结点z没有左右子树，则修改其父节点 p[ z ]，删除父节点对其的连接。\n",
    "- 如果结点z只有一个子树，则通过其子节点与父节点建立一条连接来删除z。\n",
    "- 如果z有两个子女，则删除其后继并用此后继来代替z。"
   ]
  },
  {
   "cell_type": "markdown",
   "metadata": {},
   "source": [
    "#### 二叉查询树的代码实现"
   ]
  },
  {
   "cell_type": "code",
   "execution_count": 11,
   "metadata": {
    "collapsed": true
   },
   "outputs": [],
   "source": [
    "class Node:\n",
    "    def __init__(self, val):\n",
    "        self.value = val\n",
    "        self.leftChild = None\n",
    "        self.rightChild = None\n",
    "        \n",
    "    def insert(self, data):\n",
    "        if self.value == data:\n",
    "            return False\n",
    "        elif self.value > data:\n",
    "            if self.leftChild:\n",
    "                return self.leftChild.insert(data)\n",
    "            else:\n",
    "                self.leftChild = Node(data)\n",
    "                return True\n",
    "        else:\n",
    "            if self.rightChild:\n",
    "                return self.rightChild.insert(data)\n",
    "            else:\n",
    "                self.rightChild = Node(data)\n",
    "                return True\n",
    "        \n",
    "        def find(self, data):\n",
    "            if(self.value == data):\n",
    "                return True\n",
    "            elif self.value > data:\n",
    "                if self.leftChild:\n",
    "                    return self.leftChild.find(data)\n",
    "                else:\n",
    "                    return False\n",
    "            else:\n",
    "                if self.rightChild:\n",
    "                    return self.rightChild.find(data)\n",
    "                else:\n",
    "                    return False\n",
    "    def postorder(self):\n",
    "        if self:\n",
    "            if self.leftChild:\n",
    "                self.leftChild.postorder()\n",
    "            if self.rightChild:\n",
    "                self.rightChild.postorder()\n",
    "            print (str(self.value))\n",
    "            \n",
    "    def inorder(self):\n",
    "        if self:\n",
    "            if self.leftChild:\n",
    "                self.leftChild.inorder()\n",
    "            print (str(self.value))\n",
    "            if self.rightChild:\n",
    "                self.rightChild.inorder()\n",
    "\n",
    "            \n",
    "    def preorder(self):\n",
    "        if self:\n",
    "            print (str(self.value))\n",
    "            if self.leftChild:\n",
    "                self.leftChild.preorder()\n",
    "            if self.rightChild:\n",
    "                self.rightChild.preorder()\n",
    "\n",
    "\n",
    "class Tree:\n",
    "    def __init__(self):\n",
    "        self.root =None\n",
    "    def insert(self, data):\n",
    "        if self.root:\n",
    "            return self.root.insert(data)\n",
    "        else:\n",
    "            self.root = Node(data)\n",
    "            return True\n",
    "        \n",
    "    def find(self, data):\n",
    "        if self.root:\n",
    "            return self.root.find(data)\n",
    "        else:\n",
    "            return False\n",
    "    def preorder(self):\n",
    "        print(\"preOrder\")\n",
    "        self.root.preorder()\n",
    "    def postorder(self):\n",
    "        print(\"PostOrder\")\n",
    "        self.root.postorder()\n",
    "    def inorder(self):\n",
    "        print(\"inorder\")\n",
    "        self.root.inorder()"
   ]
  },
  {
   "cell_type": "code",
   "execution_count": 12,
   "metadata": {},
   "outputs": [
    {
     "name": "stdout",
     "output_type": "stream",
     "text": [
      "True\n",
      "preOrder\n",
      "10\n",
      "15\n",
      "inorder\n",
      "10\n",
      "15\n",
      "PostOrder\n",
      "15\n",
      "10\n"
     ]
    }
   ],
   "source": [
    "bst = Tree()\n",
    "bst.insert(10)\n",
    "print(bst.insert(15))\n",
    "bst.preorder()\n",
    "bst.inorder()\n",
    "bst.postorder()"
   ]
  }
 ],
 "metadata": {
  "kernelspec": {
   "display_name": "Python 3",
   "language": "python",
   "name": "python3"
  },
  "language_info": {
   "codemirror_mode": {
    "name": "ipython",
    "version": 3
   },
   "file_extension": ".py",
   "mimetype": "text/x-python",
   "name": "python",
   "nbconvert_exporter": "python",
   "pygments_lexer": "ipython3",
   "version": "3.6.3"
  }
 },
 "nbformat": 4,
 "nbformat_minor": 2
}
