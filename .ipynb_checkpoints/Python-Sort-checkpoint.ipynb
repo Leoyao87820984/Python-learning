{
 "cells": [
  {
   "cell_type": "code",
   "execution_count": 1,
   "metadata": {},
   "outputs": [
    {
     "data": {
      "image/png": "[encoded data removed]",
      "text/plain": [
       "<IPython.core.display.Image object>"
      ]
     },
     "execution_count": 1,
     "metadata": {},
     "output_type": "execute_result"
    }
   ],
   "source": [
    "import pandas as pd\n",
    "import numpy as np\n",
    "from IPython.display import Image\n",
    "\n",
    "Image(filename='sort.PNG')\n"
   ]
  },
  {
   "cell_type": "markdown",
   "metadata": {},
   "source": [
    "### 1.冒泡排序\n",
    "冒泡排序重复地走访过要排序的数列，一次比较两个元素，如果他们的顺序错误就把他们交换过来。走访数列的工作是重复地进行直到没有再需要交换，也就是说该数列已经排序完成。\n",
    "这个算法的名字由来是因为越大的元素会经由交换慢慢“浮”到数列的顶端，故名。\n",
    "\n",
    "步骤：\n",
    "比较相邻的元素。如果第一个比第二个大，就交换他们两个。\n",
    "对每一对相邻元素作同样的工作，从开始第一对到结尾的最后一对。在这一点，最后的元素应该会是最大的数。\n",
    "针对所有的元素重复以上的步骤，除了最后一个。\n",
    "持续每次对越来越少的元素重复上面的步骤，直到没有任何一对数字需要比较。"
   ]
  },
  {
   "cell_type": "code",
   "execution_count": 2,
   "metadata": {
    "collapsed": true
   },
   "outputs": [
    {
     "name": "stdout",
     "output_type": "stream",
     "text": [
      "[23, 10, 1, 16, 65, 3155, 546, 31]\n",
      "[23, 10, 16, 1, 65, 3155, 546, 31]\n",
      "[23, 10, 16, 65, 1, 3155, 546, 31]\n",
      "[23, 10, 16, 65, 3155, 1, 546, 31]\n",
      "[23, 10, 16, 65, 3155, 546, 1, 31]\n",
      "[23, 10, 16, 65, 3155, 546, 31, 1]\n",
      "[23, 16, 10, 65, 3155, 546, 31, 1]\n",
      "[23, 16, 65, 10, 3155, 546, 31, 1]\n",
      "[23, 16, 65, 3155, 10, 546, 31, 1]\n",
      "[23, 16, 65, 3155, 546, 10, 31, 1]\n",
      "[23, 16, 65, 3155, 546, 31, 10, 1]\n",
      "[23, 65, 16, 3155, 546, 31, 10, 1]\n",
      "[23, 65, 3155, 16, 546, 31, 10, 1]\n",
      "[23, 65, 3155, 546, 16, 31, 10, 1]\n",
      "[23, 65, 3155, 546, 31, 16, 10, 1]\n",
      "[65, 23, 3155, 546, 31, 16, 10, 1]\n",
      "[65, 3155, 23, 546, 31, 16, 10, 1]\n",
      "[65, 3155, 546, 23, 31, 16, 10, 1]\n",
      "[65, 3155, 546, 31, 23, 16, 10, 1]\n",
      "[3155, 65, 546, 31, 23, 16, 10, 1]\n",
      "[3155, 546, 65, 31, 23, 16, 10, 1]\n"
     ]
    },
    {
     "data": {
      "text/plain": [
       "[3155, 546, 65, 31, 23, 16, 10, 1]"
      ]
     },
     "execution_count": 2,
     "metadata": {},
     "output_type": "execute_result"
    }
   ],
   "source": [
    "def bubble_sort(list):\n",
    "    length=len(list)\n",
    "    for index in range(length):\n",
    "        for i in range(1,length-index):#这里实际上可以不要，但是会增加计算量\n",
    "            if list[i-1]<list[i]:\n",
    "                list[i],list[i-1]=list[i-1],list[i]\n",
    "                print(list)\n",
    "    return list\n",
    "# 每次选择最小的并且将其冒泡到最后，并且下一次遍历的时候就只需要遍历length-index了\n",
    "list=[10,23,1,16,65,3155,546,31]\n",
    "bubble_sort(list)"
   ]
  },
  {
   "cell_type": "code",
   "execution_count": 11,
   "metadata": {},
   "outputs": [
    {
     "data": {
      "text/plain": [
       "[3, 3, 4, 5, 5, 6, 6, 7, 8, 8]"
      ]
     },
     "execution_count": 11,
     "metadata": {},
     "output_type": "execute_result"
    }
   ],
   "source": [
    "def bubble_sort1(data):\n",
    "    for i in range(len(data)):\n",
    "        for j in range(len(data) - i-1):   # 这里的范围需要注意哈！\n",
    "            if data[j+1] < data[j]:\n",
    "                data[j+1],data[j] = data[j],data[j+1]\n",
    "    return data\n",
    "\n",
    "test = [6,7,5,3,6,8,4,8,3,5]\n",
    "bubble_sort1(test)"
   ]
  },
  {
   "cell_type": "markdown",
   "metadata": {},
   "source": [
    "### 2. 选择排序\n",
    "从待排序的数据元素中选出最小（或最大）的一个元素，存放在序列的起始位置，直到全部待排序的数据元素排完。"
   ]
  },
  {
   "cell_type": "code",
   "execution_count": 3,
   "metadata": {},
   "outputs": [
    {
     "data": {
      "text/plain": [
       "[3155, 546, 65, 31, 23, 16, 10, 1]"
      ]
     },
     "execution_count": 3,
     "metadata": {},
     "output_type": "execute_result"
    }
   ],
   "source": [
    "def select_sort(list):\n",
    "    length=len(list)\n",
    "    for index in range(length):\n",
    "        for i in range(index,length):\n",
    "            if list[index]<list[i]:\n",
    "                list[index],list[i]=list[i],list[index]\n",
    "#list[index]就是保存了最大的数，index遍历完，整个数组就得出了。\n",
    "    return list\n",
    "list=[10,23,1,16,65,3155,546,31]\n",
    "select_sort(list)"
   ]
  },
  {
   "cell_type": "code",
   "execution_count": 20,
   "metadata": {},
   "outputs": [
    {
     "data": {
      "text/plain": [
       "[2, 3, 3, 4, 4, 5, 5, 6, 7, 8]"
      ]
     },
     "execution_count": 20,
     "metadata": {},
     "output_type": "execute_result"
    }
   ],
   "source": [
    "def select_sort1(data):\n",
    "    for i in range(len(data)):\n",
    "        k = data[i]\n",
    "        for j in range(i,len(data)-1):\n",
    "            if k > data[j+1]:\n",
    "                data[j+1],k = k,data[j+1]   ## 最重要的是，在每次寻找最小数的时候，必须保证找到后要与其交换值。\n",
    "        data[i] = k\n",
    "    return data\n",
    "\n",
    "test = [5,6,4,3,5,7,8,4,3,2]\n",
    "select_sort1(test)"
   ]
  },
  {
   "cell_type": "markdown",
   "metadata": {},
   "source": [
    "### 3.插入排序\n",
    "每步将一个待排序的纪录，按其关键码值的大小插入前面已经排序的文件中适当位置上，直到全部插入完为止。\n",
    "步骤：\n",
    "1. 从第一个元素开始，该元素可以认为已经被排序\n",
    "2. 取出下一个元素，在已经排序的元素序列中从后向前扫描\n",
    "3. 如果该元素（已排序）大于新元素，将该元素移到下一位置\n",
    "4. 重复步骤3，直到找到已排序的元素小于或者等于新元素的位置\n",
    "5. 将新元素插入到该位置后\n",
    "6. 重复步骤2~5"
   ]
  },
  {
   "cell_type": "code",
   "execution_count": 39,
   "metadata": {},
   "outputs": [
    {
     "name": "stdout",
     "output_type": "stream",
     "text": [
      "4\n",
      "3\n",
      "2\n",
      "1\n"
     ]
    }
   ],
   "source": [
    "def insert_sort(lists):\n",
    "    # 插入排序\n",
    "    count = len(lists)\n",
    "    for i in range(1, count):\n",
    "        key = lists[i]\n",
    "        j = i - 1\n",
    "        while j >= 0:\n",
    "            if lists[j] < key:\n",
    "                lists[j + 1] = lists[j]  #这里不能写 list[j+1],list[j] = list[j],list[j+1]是因为k在这次循环中是不变的，k就是那个要插入的数。\n",
    "                lists[j] = key\n",
    "            j -= 1\n",
    "    return lists\n",
    "#与前面两种排序不同的是：插入排序得思想是，已经有一个排好得数组，其他的数只需要一次插入进来就可以完成排序了。而最关键得是，\n",
    "#一个数就是一个已经排好的数组了。\n",
    "list=[10,23,1,16,65,3155,546,31]\n",
    "insert_sort(list)\n",
    "for a in range(4,0,-1):\n",
    "    print(a)"
   ]
  },
  {
   "cell_type": "code",
   "execution_count": 69,
   "metadata": {
    "collapsed": true
   },
   "outputs": [
    {
     "name": "stdout",
     "output_type": "stream",
     "text": [
      "2\n",
      "4\n",
      "4\n",
      "5\n",
      "5\n",
      "5\n",
      "2\n",
      "5\n",
      "5\n",
      "5\n"
     ]
    },
    {
     "data": {
      "text/plain": [
       "[2, 2, 3, 4, 5]"
      ]
     },
     "execution_count": 69,
     "metadata": {},
     "output_type": "execute_result"
    }
   ],
   "source": [
    "def insert_sort1(data):\n",
    "    for i in range(1, len(data)):\n",
    "        key = data[i]\n",
    "        for j in range(i-1,-1,-1):\n",
    "            print(data[i])\n",
    "            if key < data[j]:\n",
    "                data[j+1] =data[j]\n",
    "                data[j] = key      ###  为什么的？？？我明白了：拿出一个数作为样本，因为本身位置的数可能会被改变！！！\n",
    "    return data\n",
    "test = [3,2,4,5,2]\n",
    "insert_sort1(test)\n"
   ]
  },
  {
   "cell_type": "markdown",
   "metadata": {},
   "source": [
    "### 4. 希尔排序\n",
    "先取一个小于n的整数d1作为第一个增量，把文件的全部记录分组。所有距离为d1的倍数的记录放在同一个组中。先在各组内进行直接插入排序；然后，取第二个增量d2<d1重复上述的分组和排序，直至所取的增量dt=1(dt<dt-1<d2<d1)\n",
    "即所有记录放在同一组中进行直接插入排序为止。"
   ]
  },
  {
   "cell_type": "code",
   "execution_count": 12,
   "metadata": {},
   "outputs": [
    {
     "data": {
      "text/plain": [
       "[1, 3, 4, 5, 6, 8, 9, 10]"
      ]
     },
     "execution_count": 12,
     "metadata": {},
     "output_type": "execute_result"
    }
   ],
   "source": [
    "def shell_sort(list):\n",
    "    length = len(list)\n",
    "    dist = int(length/2)\n",
    "    while dist>0.5:\n",
    "        for i in range(int(dist),length):\n",
    "            temp=list[i]\n",
    "            j=i\n",
    "            while j>=int(dist) and temp<list[j-int(dist)]:\n",
    "                list[j]=list[j-int(dist)]\n",
    "                j-=int(dist)\n",
    "            list[j]=temp\n",
    "        dist/=2\n",
    "    return list\n",
    "\n",
    "## 有个一值dist称为距离，由这个值决定了分组的多少，当dist=len/2时，就每隔len/2拿一个进入一个分组，一共就是len/2个组\n",
    "## 每个组排好之后（用的插入排序），缩小dist，这样分的组就更多了，再分别排序，当dist=1的时候，其实就是完整的插入排序了。\n",
    "## （那为什么不直接用希尔排序？）可能就是希尔排序的意义在于步长的控制，间接就是控制了排序的精准度。\n",
    "list=[10,8,9,1,3,4,6,5]\n",
    "shell_sort(list)"
   ]
  },
  {
   "cell_type": "code",
   "execution_count": 8,
   "metadata": {},
   "outputs": [
    {
     "data": {
      "text/plain": [
       "[3, 3, 4, 4, 5, 5, 6, 7, 9, 11]"
      ]
     },
     "execution_count": 8,
     "metadata": {},
     "output_type": "execute_result"
    }
   ],
   "source": [
    "def shell_sort (data):\n",
    "    length = len(data)\n",
    "    dist = length/2\n",
    "    while dist > 0.5:\n",
    "        for i in range(int(dist), length):\n",
    "            key = data[i]\n",
    "            j = i\n",
    "            while j > int(dist) and (key < data[j - int(dist)]):\n",
    "                data[j] = data[j - int(dist)] ## 看下一位，如果下一位是大数，本为成为大数，跳到下一位，\n",
    "                                                        ## 看下下位，如果下下位是小数，则下位变为key。\n",
    "                j = j - int(dist)\n",
    "            data[j] = key  \n",
    "        dist = dist/2   \n",
    "    return data\n",
    "\n",
    "test = [3,4,7,9,5,11,3,4,5,6]\n",
    "shell_sort(test)"
   ]
  },
  {
   "cell_type": "markdown",
   "metadata": {},
   "source": [
    "### 5. 归并排序\n",
    "算法逻辑比较简单，以第一个list为基准，第二个向第一个插空"
   ]
  },
  {
   "cell_type": "code",
   "execution_count": 36,
   "metadata": {},
   "outputs": [
    {
     "name": "stdout",
     "output_type": "stream",
     "text": [
      "[1, 2, 3, 4, 5, 6, 8, 9, 10, 11, 12, 13, 14]\n"
     ]
    }
   ],
   "source": [
    "def merge_sort(list1,list2):\n",
    "    length_list1=len(list1)\n",
    "    length_list2=len(list2)\n",
    "    list3=[]\n",
    "    j=0\n",
    "    for i in range(length_list1):\n",
    "        while list2[j]<list1[i] and j<length_list2:\n",
    "            list3.append(list2[j])\n",
    "            j=j+1    \n",
    "        list3.append(list1[i])\n",
    "    if j<(length_list2-1):\n",
    "        for k in range(j,length_list2):\n",
    "            list3.append(list2[k])\n",
    "    return list3\n",
    "## 必须建立在两个数组都是已经排好序的情况下，然后依次拿出一个数组的第一个，第二个等等，去遍历第二个数组。\n",
    "list1=[1,3,5,10]\n",
    "list2=[2,4,6,8,9,11,12,13,14]\n",
    "print (merge_sort(list1,list2))"
   ]
  },
  {
   "cell_type": "markdown",
   "metadata": {},
   "source": [
    "### 6. 快速排序\n",
    "随意选择一个数字作为基准，比基准数字大的在右，比基准数字小的在左。"
   ]
  },
  {
   "cell_type": "code",
   "execution_count": 42,
   "metadata": {},
   "outputs": [
    {
     "name": "stdout",
     "output_type": "stream",
     "text": [
      "[1, 1, 2, 3, 3, 4, 13, 23, 59]\n"
     ]
    }
   ],
   "source": [
    "def quickSort(L, low, high):\n",
    "    i = low \n",
    "    j = high\n",
    "    if i >= j:\n",
    "        return L\n",
    "    key = L[i]\n",
    "    while i < j:\n",
    "        while i < j and L[j] >= key:\n",
    "            j = j-1                                                             \n",
    "        L[i] = L[j]\n",
    "        while i < j and L[i] <= key:    \n",
    "            i = i+1 \n",
    "        L[j] = L[i]\n",
    "    L[i] = key \n",
    "    quickSort(L, low, i-1)   # 对左边的继续进行排序\n",
    "    quickSort(L, j+1, high)  # 对右边的继续进行排序，递归！！！\n",
    "    return L\n",
    "ww=[3,2,4,1,59,23,13,1,3]\n",
    "quickSort(ww,0,len(ww)-1)\n",
    "print (ww)"
   ]
  },
  {
   "cell_type": "markdown",
   "metadata": {},
   "source": [
    "### 7. 堆排序\n",
    "\n",
    "堆排序就是把最大堆堆顶的最大数取出，将剩余的堆继续调整为最大堆，再次将堆顶的最大数取出，这个过程持续到剩余数只有一个时结束。在堆中定义以下几种操作：\n",
    "\n",
    "最大堆调整（Max-Heapify）：将堆的末端子节点作调整，使得子节点永远小于父节点\n",
    "创建最大堆（Build-Max-Heap）：将堆所有数据重新排序，使其成为最大堆\n",
    "堆排序（Heap-Sort）：移除位在第一个数据的根节点，并做最大堆调整的递归运算"
   ]
  },
  {
   "cell_type": "code",
   "execution_count": 5,
   "metadata": {},
   "outputs": [
    {
     "name": "stdout",
     "output_type": "stream",
     "text": [
      "[1, 10, 16, 23, 31, 53, 54, 65, 546, 646, 654, 3155]\n"
     ]
    }
   ],
   "source": [
    "def head_sort(list):\n",
    "    length_list = len(list)\n",
    "    first=int(length_list/2-1)\n",
    "    for start in range(first,-1,-1):   ## sep = -1 means add (-1) every time\n",
    "        max_heapify(list,start,length_list-1)\n",
    "    for end in range(length_list-1,0,-1):\n",
    "        list[end],list[0]=list[0],list[end]\n",
    "        max_heapify(list,0,end-1)\n",
    "    return list\n",
    "\n",
    "def max_heapify(ary,start,end):\n",
    "    root = start\n",
    "    while True:\n",
    "        child = root*2 + 1\n",
    "        if child > end:\n",
    "            break\n",
    "        if child + 1 <= end and ary[child]<ary[child+1]:\n",
    "            child = child + 1\n",
    "        if ary[root]<ary[child]:\n",
    "            ary[root],ary[child]=ary[child],ary[root]\n",
    "            root=child\n",
    "        else:\n",
    "            break\n",
    "#测试：\n",
    "list=[10,23,1,53,654,54,16,646,65,3155,546,31]\n",
    "print (head_sort(list))"
   ]
  },
  {
   "cell_type": "markdown",
   "metadata": {},
   "source": [
    "### 8. 计数排序\n",
    "通俗地理解，例如有10个年龄不同的人，统计出有8个人的年龄比A小，那A的年龄就排在第9位，用这个方法可以得到其他每个人的位置，也就排好了序。当然，年龄有重复时需要特殊处理（保证稳定性），这就是为什么最后要反向填充目标数组，以及将每个数字的统计减去1的原因。"
   ]
  },
  {
   "cell_type": "code",
   "execution_count": 14,
   "metadata": {},
   "outputs": [
    {
     "name": "stdout",
     "output_type": "stream",
     "text": [
      "[1, 0, 0, 0, 0, 0, 1, 0, 0, 0, 0, 0, 0, 1, 0, 0, 0, 0, 0, 1, 0, 0, 0, 0, 0, 0, 1, 0, 0, 0, 0, 0, 0, 0, 1, 0, 0, 0, 0, 0, 0, 0, 0, 0, 0, 0, 0, 0, 0, 0, 0, 0, 0, 0, 0, 0, 1, 1, 0, 0, 0, 0, 0, 0, 0, 0, 0, 0, 1, 0, 0, 0, 0, 0, 0, 0, 0, 0, 0, 0, 0, 0, 0, 0, 0, 0, 0, 0, 0, 0, 0, 0, 0, 0, 0, 0, 0, 0, 0, 0, 0, 0, 0, 1, 0, 0, 0, 0, 0, 0, 0, 0, 0, 0, 0, 0, 0, 0, 0, 0, 0, 0, 0, 0, 0, 0, 0, 0, 0, 0, 0, 0, 0, 0, 0, 0, 0, 0, 0, 0, 0, 0, 0, 0, 0, 0, 0, 0, 0, 0, 0, 0, 0, 0, 0, 0, 0, 0, 0, 0, 0, 0, 0, 0, 0, 0, 0, 0, 0, 0, 0, 0, 0, 0, 0, 0, 0, 0, 0, 0, 0, 0, 0, 0, 0, 0, 0, 0, 0, 0, 0, 0, 0, 0, 0, 0, 0, 0, 0, 0, 0, 0, 0, 0, 0, 0, 0, 0, 0, 0, 0, 0, 0, 0, 0, 0, 0, 0, 0, 0, 0, 0, 0, 0, 0, 0, 0, 0, 0, 0, 0, 0, 0, 0, 0, 0, 0, 0, 0, 0, 0, 0, 0, 0, 0, 0, 0, 0, 0, 0, 0, 0, 0, 0, 0, 0, 0, 0, 0, 0, 0, 0, 0, 0, 0, 0, 0, 0, 0, 0, 0, 0, 0, 0, 0, 0, 0, 0, 0, 0, 0, 0, 0, 0, 0, 0, 0, 0, 0, 0, 0, 0, 0, 0, 0, 0, 0, 0, 0, 0, 0, 0, 0, 0, 0, 0, 0, 0, 0, 0, 0, 0, 0, 0, 0, 0, 0, 0, 0, 0, 0, 0, 0, 0, 0, 0, 0, 0, 0, 0, 0, 0, 0, 0, 0, 0, 0, 0, 0, 0, 0, 0, 0, 0, 0, 0, 0, 0, 0, 0, 0, 0, 0, 0, 0, 0, 0, 0, 0, 0, 0, 0, 0, 0, 0, 0, 0, 0, 0, 0, 0, 0, 0, 0, 0, 0, 0, 0, 0, 0, 0, 0, 0, 0, 0, 0, 0, 0, 0, 0, 0, 0, 0, 0, 0, 0, 0, 0, 0, 0, 0, 0, 0, 0, 0, 0, 0, 0, 0, 0, 0, 0, 0, 0, 0, 0, 0, 0, 0, 0, 0, 0, 0, 0, 0, 0, 0, 0, 0, 0, 0, 0, 0, 0, 0, 0, 0, 0, 0, 0, 0, 0, 0, 0, 0, 0, 0, 0, 0, 0, 0, 0, 0, 0, 0, 0, 0, 0, 0, 0, 0, 0, 0, 0, 0, 0, 0, 0, 0, 0, 0, 0, 0, 0, 0, 0, 0, 0, 0, 0, 0, 0, 0, 0, 0, 0, 0, 0, 0, 0, 0, 0, 0, 0, 0, 0, 0, 0, 0, 0, 0, 0, 0, 0, 0, 0, 0, 0, 0, 0, 0, 0, 0, 0, 0, 0, 0, 0, 0, 0, 0, 0, 0, 0, 0, 0, 0, 0, 0, 0, 0, 0, 0, 0, 0, 0, 0, 0, 0, 0, 0, 0, 0, 0, 0, 0, 0, 0, 0, 1, 0, 0, 0, 0, 0, 0, 0, 0, 0, 0, 0, 0, 0, 0, 0, 0, 0, 0, 0, 0, 0, 0, 0, 0, 0, 0, 0, 0, 0, 0, 0, 0, 0, 0, 0, 0, 0, 0, 0, 0, 0, 0, 0, 0, 0, 0, 0, 0, 0, 0, 0, 0, 0, 0, 0, 0, 0, 0, 0, 0, 0, 0, 0, 0, 0, 0, 0, 0, 0, 0, 0, 0, 0, 0, 0, 0, 0, 0, 0, 0, 0, 0, 0, 0, 0, 0, 0, 0, 0, 0, 0, 0, 0, 0, 0, 0, 0, 0, 0, 1, 0, 0, 0, 0, 0, 0, 0, 1]\n",
      "-3\n",
      "3\n",
      "10\n",
      "16\n",
      "23\n",
      "31\n",
      "53\n",
      "54\n",
      "65\n",
      "100\n",
      "546\n",
      "646\n",
      "654\n",
      "[-3, 3, 10, 16, 23, 31, 53, 54, 65, 100, 546, 646, 654]\n"
     ]
    }
   ],
   "source": [
    "def count_sort(list):\n",
    "    max=min=0\n",
    "    for i in list:\n",
    "        if i < min:\n",
    "            min = i\n",
    "        if i > max:\n",
    "            max = i \n",
    "    count = [0] * (max - min +1)\n",
    "    for j in range(max-min+1):\n",
    "        count[j]=0\n",
    "    for index in list:\n",
    "        count[index-min]+=1\n",
    "    index=0\n",
    "    print(count)\n",
    "    for a in range(max-min+1):\n",
    "        for c in range(count[a]):\n",
    "            list[index]=a+min\n",
    "            print(a+min)\n",
    "            index+=1\n",
    "    return list\n",
    "    #测试：\n",
    "list=[-3,10,23,3,53,654,54,16,646,65,100,546,31]\n",
    "print (count_sort(list))\n",
    "\n",
    "#### 把所有的数转为index！ 把所有的数转为index！！！打在一个数列上，实际上是利用了计算机列表list[10]在list[1]之后的性质！"
   ]
  }
 ],
 "metadata": {
  "kernelspec": {
   "display_name": "Python 3",
   "language": "python",
   "name": "python3"
  },
  "language_info": {
   "codemirror_mode": {
    "name": "ipython",
    "version": 3
   },
   "file_extension": ".py",
   "mimetype": "text/x-python",
   "name": "python",
   "nbconvert_exporter": "python",
   "pygments_lexer": "ipython3",
   "version": "3.6.3"
  }
 },
 "nbformat": 4,
 "nbformat_minor": 2
}
