{
 "cells": [
  {
   "cell_type": "code",
   "execution_count": 13,
   "metadata": {
    "collapsed": true
   },
   "outputs": [],
   "source": [
    "from IPython.display import Image"
   ]
  },
  {
   "cell_type": "markdown",
   "metadata": {},
   "source": [
    "### 几种经典排序算法\n",
    "在八大排序算法中，只有快速排序，二叉树排序（堆排序），是把平均时间复杂度从O(n^2)降低到O(log2n)"
   ]
  },
  {
   "cell_type": "markdown",
   "metadata": {},
   "source": [
    "#### 1. 快速排序\n",
    "快速排序的思想是，假如有一个从小到大已经排好的数组，那么这个数左边一定是比自己小的，右边一定是比自己大的，那么现在选择第i个数，两个指针，一个从左开始，一个从右开始，这两个指针的目的就是找出这个数应该在的位置。\n",
    "实现的方法比较难理解：先右指针，右指针上的数必须要比这个数大，所以遍历到一旦比它小的时候，位置为j，停下，把这个位置的数给\n",
    "list[i]，然后左指针，左指针上的数必须比这个数小，一旦发现比这个数大的，位置为k，停下，把这个数给list[j]。依次类推。直到两指针相交。"
   ]
  },
  {
   "cell_type": "code",
   "execution_count": null,
   "metadata": {
    "collapsed": true
   },
   "outputs": [],
   "source": [
    "def quick_sort(L, low ,high):\n",
    "    return L"
   ]
  },
  {
   "cell_type": "markdown",
   "metadata": {},
   "source": [
    "在分好左右两侧的数组之后，我们需要递归调用快速排序。"
   ]
  },
  {
   "cell_type": "code",
   "execution_count": 2,
   "metadata": {
    "collapsed": true
   },
   "outputs": [],
   "source": [
    "def quick_sort(L, low ,high):\n",
    "    \n",
    "    quick_sort(L, low, newhigh)\n",
    "    quick_sort(L,newlow, high)\n",
    "    return L"
   ]
  },
  {
   "cell_type": "markdown",
   "metadata": {},
   "source": [
    "下面添加算法的具体实现，我们需要注意两个点：\n",
    "- 递归中止的条件是：low >= high 然后返回List\n",
    "- 每次循环中止的条件是：low >= high 然后 L[i] = key (可以这样想，i总是在左侧，因为是从第一个数开始，所以总是在小的这一边，那么如何左指针没有停下一直到右指针，则就应该 L[i] = key)"
   ]
  },
  {
   "cell_type": "code",
   "execution_count": 12,
   "metadata": {},
   "outputs": [
    {
     "data": {
      "text/plain": [
       "[1, 3, 3, 4, 4, 5, 5, 5, 5, 6, 7, 9]"
      ]
     },
     "execution_count": 12,
     "metadata": {},
     "output_type": "execute_result"
    }
   ],
   "source": [
    "def quick_sort(L, low ,high):\n",
    "    i = low\n",
    "    j = high\n",
    "    if i >= j :\n",
    "        return L\n",
    "    else:\n",
    "        key = L[i]\n",
    "        while i <  j:\n",
    "            while L[j] >= key and i < j:\n",
    "                j = j -1\n",
    "            L[i] = L[j]\n",
    "            while L[i] <= key and i < j:\n",
    "                i = i + 1\n",
    "            L[j] = L[i]\n",
    "        L[i] = key\n",
    "    quick_sort(L, low, i -1)\n",
    "    quick_sort(L, j+1, high)\n",
    "    return L\n",
    "\n",
    "test = [5,4,5,6,7,5,3,3,5,1,4,9]\n",
    "quick_sort(test, 0 , len(test)-1)"
   ]
  },
  {
   "cell_type": "markdown",
   "metadata": {},
   "source": [
    "在我看来，比较快速排序和普通的排序就是看其循环的次数，同样是每次遍历一遍数组，冒泡和选择排序都是n次遍历，而快速排序很明显只需要log2n次，所以就要快一点。"
   ]
  },
  {
   "cell_type": "markdown",
   "metadata": {},
   "source": [
    "#### 2. 堆排序\n",
    "堆排序是二叉树结构，其中有一个概念叫做最大堆，每次调整最大堆，并且取出最大堆的顶元素。\n",
    "由于是完全二叉树的结构，所以父节点和子节点的下标关系可以轻松得出：父节点i//2（向下取整）， 左子节点2i，右子节点2i + 1。\n",
    " > 最大堆就是指每个节点的子节点都必须比父节点小。那么顶端就是最大的元素。"
   ]
  },
  {
   "cell_type": "code",
   "execution_count": 15,
   "metadata": {},
   "outputs": [
    {
     "data": {
      "image/png": "[encoded data removed]",
      "text/plain": [
       "<IPython.core.display.Image object>"
      ]
     },
     "execution_count": 15,
     "metadata": {},
     "output_type": "execute_result"
    }
   ],
   "source": [
    "Image('heap_sort.png')"
   ]
  },
  {
   "cell_type": "markdown",
   "metadata": {},
   "source": [
    "在代码实现方面，需要注意的是，实现一个最大堆在二叉树里是非常容易的，本节点与两个子节点比较，最多交换一次。\n",
    "我们首先实现最大堆。在这个函数里，我们将排好数组中的某一段树。另外注意，由于数组的起点是0，所以我们的左子节点是2i+1，右子节点是2i+2。"
   ]
  },
  {
   "cell_type": "code",
   "execution_count": 33,
   "metadata": {},
   "outputs": [],
   "source": [
    "def max_heapify(ary,start,end):\n",
    "    root = start\n",
    "    while True:\n",
    "        child = root*2 + 1\n",
    "        if child > end:\n",
    "            break\n",
    "        if child + 1 <= end and ary[child]<ary[child+1]:\n",
    "            child = child + 1\n",
    "        if ary[root]<ary[child]:\n",
    "            ary[root],ary[child]=ary[child],ary[root]\n",
    "            root=child\n",
    "        else:\n",
    "            break"
   ]
  },
  {
   "cell_type": "markdown",
   "metadata": {},
   "source": [
    "接下来定义排序算法: \n",
    "事实上如果有一个完善的最大堆，那么不停地把一个数字拿到数组最后就可以构建出排列了。所以函数的第一部分是构建完整的最大堆，函数的后一部分是不停地拿出最后一个数。\n",
    "\n",
    "**注意：这第一部分非常难理解，其实做的事情就是从底层开始，依次向上调整，保证，满足最大堆。而一开始的lenth/2 -1所对应的，就是二叉树的最低层！！！！**\n",
    "> 所以这样就更能理解第一部分函数的作用：交换大数，向下传递，保证最大堆性质！"
   ]
  },
  {
   "cell_type": "code",
   "execution_count": 41,
   "metadata": {},
   "outputs": [
    {
     "name": "stdout",
     "output_type": "stream",
     "text": [
      "[4, 7, 11, 3, 10, 9, 2]\n",
      "[4, 10, 11, 3, 7, 9, 2]\n",
      "[11, 10, 9, 3, 7, 4, 2]\n"
     ]
    },
    {
     "data": {
      "text/plain": [
       "[2, 3, 4, 7, 9, 10, 11]"
      ]
     },
     "execution_count": 41,
     "metadata": {},
     "output_type": "execute_result"
    }
   ],
   "source": [
    "def head_sort(list):\n",
    "    length_list = len(list)\n",
    "    first = int(length_list/2 - 1)\n",
    "    for start in range(first, -1, -1):\n",
    "        max_heapify(list, start, length_list-1)\n",
    "        print(list)\n",
    "    for end in range(length_list-1, 0 ,-1):\n",
    "        list[end], list[0] = list[0], list[end]\n",
    "        max_heapify(list, 0, end - 1)\n",
    "    return list\n",
    "\n",
    "test = [4,7,9,3,10,11,2]\n",
    "head_sort(test)"
   ]
  }
 ],
 "metadata": {
  "kernelspec": {
   "display_name": "Python 3",
   "language": "python",
   "name": "python3"
  },
  "language_info": {
   "codemirror_mode": {
    "name": "ipython",
    "version": 3
   },
   "file_extension": ".py",
   "mimetype": "text/x-python",
   "name": "python",
   "nbconvert_exporter": "python",
   "pygments_lexer": "ipython3",
   "version": "3.6.3"
  }
 },
 "nbformat": 4,
 "nbformat_minor": 2
}
