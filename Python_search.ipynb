{
 "cells": [
  {
   "cell_type": "markdown",
   "metadata": {},
   "source": [
    "### 搜索算法总结\n",
    "- 顺序查找： O ( n )\n",
    "- 二分查找： O ( lgn )\n",
    "- Hash查找： O ( 1 )"
   ]
  },
  {
   "cell_type": "markdown",
   "metadata": {},
   "source": [
    "#### 1. 顺序查找\n",
    "顺序查找的想法就是最简单的了，依次遍历，看是否又相同的值，所以做最坏的情况是遍历n个数。"
   ]
  },
  {
   "cell_type": "code",
   "execution_count": 2,
   "metadata": {
    "collapsed": true
   },
   "outputs": [],
   "source": [
    "def sequential_search(a_list, item):\n",
    "    found = False\n",
    "    return found"
   ]
  },
  {
   "cell_type": "markdown",
   "metadata": {},
   "source": [
    "这里最好不要用for循环，因为会直接遍历整个数组，而我们是要在找到之后就停止遍历，所以最好的办法是用while。"
   ]
  },
  {
   "cell_type": "code",
   "execution_count": 5,
   "metadata": {},
   "outputs": [
    {
     "data": {
      "text/plain": [
       "True"
      ]
     },
     "execution_count": 5,
     "metadata": {},
     "output_type": "execute_result"
    }
   ],
   "source": [
    "def sequential_search(a_list, item):\n",
    "    found = False\n",
    "    pos = 0\n",
    "    while pos < len(a_list) and found == False:\n",
    "        if a_list[pos] == item:\n",
    "            found = True\n",
    "        pos  = pos + 1 \n",
    "    return found\n",
    "test = [12,32,12,4,3,1,4,5,7,8,32,1,4]\n",
    "sequential_search(test,7)"
   ]
  },
  {
   "cell_type": "markdown",
   "metadata": {},
   "source": [
    "#### 2. 二分查找\n",
    "这里想法也很好理解，但是关键是这里的数组一定是排好序的（所以能和其他比吗？）。"
   ]
  },
  {
   "cell_type": "code",
   "execution_count": 6,
   "metadata": {
    "collapsed": true
   },
   "outputs": [],
   "source": [
    "def binary_search(a_list, item):\n",
    "    found = False\n",
    "    return found"
   ]
  },
  {
   "cell_type": "markdown",
   "metadata": {},
   "source": [
    "这里要注意，首先我们的下标肯定是整数，所以除2的时候我们使用的是向下整除法：\n",
    "```python\n",
    "a = 7 //  2\n",
    "## a = 3\n",
    "```\n",
    "其次，数组的长度是8，但是直接除2得到的下标4其实对应的是第五个数，所以头一次计算的时候要减一。同样的，使用while而非for。其次，我们需要了解二分查找的具体做法：一个头坐标，一个尾坐标，如果等于中值，就结束，如果不等：如果比中值大，则头坐标变中值坐标加一，反之尾坐标变中值坐标减一。那么，假如说没有找到这个数，也就是说循环中止的条件是什么呢？比如找17最后定格在[15，19]，他们的中值是15，17比15大，头坐标加一变成 [19]，头尾坐标的中值还是19，17比19小，尾下标减一，所以这时尾下标已经大于头下标了，异常出现，循环结束。"
   ]
  },
  {
   "cell_type": "code",
   "execution_count": 10,
   "metadata": {},
   "outputs": [
    {
     "data": {
      "text/plain": [
       "True"
      ]
     },
     "execution_count": 10,
     "metadata": {},
     "output_type": "execute_result"
    }
   ],
   "source": [
    "def binary_search(a_list, item):\n",
    "    found = False\n",
    "    head = 0\n",
    "    tail = len(a_list) - 1\n",
    "    while head <= tail and found == False:\n",
    "        mid = (head + tail) // 2\n",
    "        if a_list[mid] == item:\n",
    "            found = True\n",
    "        else :\n",
    "            if a_list[mid] > item:\n",
    "                tail = mid - 1\n",
    "            else:\n",
    "                head = mid +1\n",
    "    return found\n",
    "test = [1,3,5,7,9,11,13,15,17]\n",
    "binary_search(test, 13)"
   ]
  },
  {
   "cell_type": "markdown",
   "metadata": {},
   "source": [
    "#### 3. Hash查找\n",
    "其实一般来说，Hash就是取余运算，把一组数投影到取余空间。我一直很好奇，它是怎么做到把复杂度降到这么低的，难道是\n",
    "直需要做一个取余运算就可以了吗? 那么有碰撞的情况怎么办？ 不管了，先弄没有碰撞的情况吧。。。\n",
    "或者说，在Hash散列表中，关于x的模：x = len(list) = index  "
   ]
  },
  {
   "cell_type": "code",
   "execution_count": 18,
   "metadata": {},
   "outputs": [
    {
     "data": {
      "text/plain": [
       "True"
      ]
     },
     "execution_count": 18,
     "metadata": {},
     "output_type": "execute_result"
    }
   ],
   "source": [
    "def Hash_search_5(a_list, item):\n",
    "    found = False\n",
    "    index  =  item%5\n",
    "    if a_list[index] == item:\n",
    "        found = True\n",
    "    return found\n",
    "test = [40, 6, 17, 23, 24] # This hava to be the hash projection!\n",
    "Hash_search_5(test,40)"
   ]
  }
 ],
 "metadata": {
  "kernelspec": {
   "display_name": "Python 3",
   "language": "python",
   "name": "python3"
  },
  "language_info": {
   "codemirror_mode": {
    "name": "ipython",
    "version": 3
   },
   "file_extension": ".py",
   "mimetype": "text/x-python",
   "name": "python",
   "nbconvert_exporter": "python",
   "pygments_lexer": "ipython3",
   "version": "3.6.3"
  }
 },
 "nbformat": 4,
 "nbformat_minor": 2
}
